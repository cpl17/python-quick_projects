{
 "cells": [
  {
   "cell_type": "markdown",
   "metadata": {},
   "source": [
    "# Project Overview"
   ]
  },
  {
   "cell_type": "markdown",
   "metadata": {},
   "source": [
    "By some accounts, in the St. Petersburg 1914 chess tournament, the title \"Grandmaster\" was formally conferred by Russian Tsar Nicholas II, who had partially funded the tournament. The Tsar reportedly awarded the title to the five finalists: Emanuel Lasker, José Raúl Capablanca, Alexander Alekhine, Siegbert Tarrasch, and Frank Marshall."
   ]
  },
  {
   "cell_type": "markdown",
   "metadata": {},
   "source": [
    "## Questions\n",
    "\n",
    "1. Basic characteristics of Grandmasters\n",
    "2. Observe geographical distribution total\n",
    "3. Observe geographical distribution over time\n",
    "4. First woman grandmaster \n",
    "5. Oldest in the top 1000 \n",
    "6. Age when became grandmaster (over time)"
   ]
  },
  {
   "cell_type": "markdown",
   "metadata": {},
   "source": [
    "# Data Gathering"
   ]
  },
  {
   "cell_type": "code",
   "execution_count": 219,
   "metadata": {},
   "outputs": [],
   "source": [
    "from bs4 import BeautifulSoup\n",
    "import requests\n",
    "import lxml\n",
    "\n",
    "import pandas as pd\n",
    "import matplotlib.pyplot as plt\n",
    "import plotly.express as px\n",
    "\n",
    "import requests\n",
    "import numpy as np"
   ]
  },
  {
   "cell_type": "code",
   "execution_count": 220,
   "metadata": {},
   "outputs": [],
   "source": [
    "response = requests.get(url=\"https://en.wikipedia.org/wiki/List_of_chess_grandmasters\")\n",
    "page = response.text"
   ]
  },
  {
   "cell_type": "code",
   "execution_count": 221,
   "metadata": {},
   "outputs": [],
   "source": [
    "soup = BeautifulSoup(page, \"lxml\")"
   ]
  },
  {
   "cell_type": "code",
   "execution_count": 222,
   "metadata": {},
   "outputs": [],
   "source": [
    "# Table with relevant information \n",
    "table = soup.find(\"table\", id=\"grandmasters\")"
   ]
  },
  {
   "cell_type": "code",
   "execution_count": 223,
   "metadata": {},
   "outputs": [],
   "source": [
    "# Get header info \n",
    "\n",
    "header_tag = table.find(\"tr\")"
   ]
  },
  {
   "cell_type": "code",
   "execution_count": 224,
   "metadata": {},
   "outputs": [
    {
     "name": "stdout",
     "output_type": "stream",
     "text": [
      "\n",
      "Name\n",
      "FIDE ID\n",
      "Birthday\n",
      "Birthplace\n",
      "Died\n",
      "TitleYear\n",
      "Federation\n",
      "Sex\n",
      "Notes\n",
      "\n"
     ]
    }
   ],
   "source": [
    "print(header_tag.text)"
   ]
  },
  {
   "cell_type": "code",
   "execution_count": 225,
   "metadata": {},
   "outputs": [],
   "source": [
    "headers = header_tag.text.split(\"\\n\")[1:-1]"
   ]
  },
  {
   "cell_type": "code",
   "execution_count": 226,
   "metadata": {},
   "outputs": [],
   "source": [
    "# Get Grandmaster info\n",
    "\n",
    "gm_tags = table.find_all('tr')[2:]"
   ]
  },
  {
   "cell_type": "code",
   "execution_count": 227,
   "metadata": {},
   "outputs": [
    {
     "data": {
      "text/html": [
       "<div>\n",
       "<style scoped>\n",
       "    .dataframe tbody tr th:only-of-type {\n",
       "        vertical-align: middle;\n",
       "    }\n",
       "\n",
       "    .dataframe tbody tr th {\n",
       "        vertical-align: top;\n",
       "    }\n",
       "\n",
       "    .dataframe thead th {\n",
       "        text-align: right;\n",
       "    }\n",
       "</style>\n",
       "<table border=\"1\" class=\"dataframe\">\n",
       "  <thead>\n",
       "    <tr style=\"text-align: right;\">\n",
       "      <th></th>\n",
       "      <th>Name</th>\n",
       "      <th>FIDE ID</th>\n",
       "      <th>Birthday</th>\n",
       "      <th>Birthplace</th>\n",
       "      <th>Died</th>\n",
       "      <th>TitleYear</th>\n",
       "      <th>Federation</th>\n",
       "      <th>Sex</th>\n",
       "      <th>Notes</th>\n",
       "    </tr>\n",
       "  </thead>\n",
       "  <tbody>\n",
       "    <tr>\n",
       "      <th>0</th>\n",
       "      <td>Aagaard, Jacob</td>\n",
       "      <td>1401815</td>\n",
       "      <td>1973-07-31</td>\n",
       "      <td>Hørsholm</td>\n",
       "      <td></td>\n",
       "      <td>2007</td>\n",
       "      <td>Denmark</td>\n",
       "      <td>M</td>\n",
       "      <td>Di Felice; title application; currently Scotland</td>\n",
       "    </tr>\n",
       "    <tr>\n",
       "      <th>1</th>\n",
       "      <td>Abasov, Nijat</td>\n",
       "      <td>13402960</td>\n",
       "      <td>1995-05-14</td>\n",
       "      <td>Baku</td>\n",
       "      <td></td>\n",
       "      <td>2011</td>\n",
       "      <td>Azerbaijan</td>\n",
       "      <td>M</td>\n",
       "      <td>Di Felice; title application</td>\n",
       "    </tr>\n",
       "    <tr>\n",
       "      <th>2</th>\n",
       "      <td>Abbasifar, Hasan</td>\n",
       "      <td>12501000</td>\n",
       "      <td>1972-09-12</td>\n",
       "      <td>Shiraz</td>\n",
       "      <td></td>\n",
       "      <td>2013</td>\n",
       "      <td>Iran</td>\n",
       "      <td>M</td>\n",
       "      <td>Di Felice; title application[note 1]</td>\n",
       "    </tr>\n",
       "    <tr>\n",
       "      <th>3</th>\n",
       "      <td>Abbasov, Farid</td>\n",
       "      <td>13400665</td>\n",
       "      <td>1979-01-31</td>\n",
       "      <td>Baku</td>\n",
       "      <td></td>\n",
       "      <td>2007</td>\n",
       "      <td>Azerbaijan</td>\n",
       "      <td>M</td>\n",
       "      <td>Di Felice; title application</td>\n",
       "    </tr>\n",
       "    <tr>\n",
       "      <th>4</th>\n",
       "      <td>Abdusattorov, Nodirbek</td>\n",
       "      <td>14204118</td>\n",
       "      <td>2004-09-18</td>\n",
       "      <td>Tashkent</td>\n",
       "      <td></td>\n",
       "      <td>2018</td>\n",
       "      <td>Uzbekistan</td>\n",
       "      <td>M</td>\n",
       "      <td>title application[note 2]</td>\n",
       "    </tr>\n",
       "  </tbody>\n",
       "</table>\n",
       "</div>"
      ],
      "text/plain": [
       "                     Name   FIDE ID    Birthday Birthplace Died TitleYear  \\\n",
       "0          Aagaard, Jacob   1401815  1973-07-31   Hørsholm           2007   \n",
       "1           Abasov, Nijat  13402960  1995-05-14       Baku           2011   \n",
       "2        Abbasifar, Hasan  12501000  1972-09-12     Shiraz           2013   \n",
       "3          Abbasov, Farid  13400665  1979-01-31       Baku           2007   \n",
       "4  Abdusattorov, Nodirbek  14204118  2004-09-18   Tashkent           2018   \n",
       "\n",
       "   Federation Sex                                             Notes  \n",
       "0     Denmark   M  Di Felice; title application; currently Scotland  \n",
       "1  Azerbaijan   M                      Di Felice; title application  \n",
       "2        Iran   M              Di Felice; title application[note 1]  \n",
       "3  Azerbaijan   M                      Di Felice; title application  \n",
       "4  Uzbekistan   M                         title application[note 2]  "
      ]
     },
     "execution_count": 227,
     "metadata": {},
     "output_type": "execute_result"
    }
   ],
   "source": [
    "# Create DataFrame\n",
    "\n",
    "data = {column_name: [] for column_name in headers}\n",
    "\n",
    "gms_info = [tag.text.strip(\"\\n\").split(\"\\n\") for tag in gm_tags] \n",
    "\n",
    "for gm_info in gms_info:\n",
    "    for item in list(zip(headers, gm_info)):\n",
    "        data[item[0]].append(item[1]) \n",
    "\n",
    "gm_df = pd.DataFrame(data) \n",
    "\n",
    "gm_df.head()"
   ]
  },
  {
   "cell_type": "code",
   "execution_count": 228,
   "metadata": {},
   "outputs": [],
   "source": [
    "gm_df.drop(\"Notes\", axis=1, inplace=True)"
   ]
  },
  {
   "cell_type": "markdown",
   "metadata": {},
   "source": [
    "# Data Exploration (Preliminary)"
   ]
  },
  {
   "cell_type": "code",
   "execution_count": 229,
   "metadata": {},
   "outputs": [
    {
     "data": {
      "text/plain": [
       "(1932, 8)"
      ]
     },
     "execution_count": 229,
     "metadata": {},
     "output_type": "execute_result"
    }
   ],
   "source": [
    "gm_df.shape"
   ]
  },
  {
   "cell_type": "code",
   "execution_count": 230,
   "metadata": {},
   "outputs": [
    {
     "name": "stdout",
     "output_type": "stream",
     "text": [
      "<class 'pandas.core.frame.DataFrame'>\n",
      "RangeIndex: 1932 entries, 0 to 1931\n",
      "Data columns (total 8 columns):\n",
      " #   Column      Non-Null Count  Dtype \n",
      "---  ------      --------------  ----- \n",
      " 0   Name        1932 non-null   object\n",
      " 1   FIDE ID     1932 non-null   object\n",
      " 2   Birthday    1932 non-null   object\n",
      " 3   Birthplace  1932 non-null   object\n",
      " 4   Died        1932 non-null   object\n",
      " 5   TitleYear   1932 non-null   object\n",
      " 6   Federation  1932 non-null   object\n",
      " 7   Sex         1932 non-null   object\n",
      "dtypes: object(8)\n",
      "memory usage: 120.9+ KB\n"
     ]
    }
   ],
   "source": [
    "gm_df.info()   # Missing Values encoded as empty strings"
   ]
  },
  {
   "cell_type": "markdown",
   "metadata": {},
   "source": [
    "# Data Prepartions"
   ]
  },
  {
   "cell_type": "code",
   "execution_count": 231,
   "metadata": {},
   "outputs": [
    {
     "data": {
      "text/plain": [
       "Name                  object\n",
       "FIDE ID               object\n",
       "Birthday      datetime64[ns]\n",
       "Birthplace            object\n",
       "Died          datetime64[ns]\n",
       "TitleYear     datetime64[ns]\n",
       "Federation            object\n",
       "Sex                   object\n",
       "dtype: object"
      ]
     },
     "execution_count": 231,
     "metadata": {},
     "output_type": "execute_result"
    }
   ],
   "source": [
    "gm_df[['Birthday', 'Died', 'TitleYear']] = gm_df[['Birthday', 'Died', 'TitleYear']].apply(pd.to_datetime)\n",
    "gm_df.dtypes"
   ]
  },
  {
   "cell_type": "markdown",
   "metadata": {},
   "source": [
    "# Data Investegation"
   ]
  },
  {
   "cell_type": "markdown",
   "metadata": {},
   "source": [
    "### Early Grandmasters"
   ]
  },
  {
   "cell_type": "code",
   "execution_count": 232,
   "metadata": {},
   "outputs": [
    {
     "data": {
      "text/html": [
       "<div>\n",
       "<style scoped>\n",
       "    .dataframe tbody tr th:only-of-type {\n",
       "        vertical-align: middle;\n",
       "    }\n",
       "\n",
       "    .dataframe tbody tr th {\n",
       "        vertical-align: top;\n",
       "    }\n",
       "\n",
       "    .dataframe thead th {\n",
       "        text-align: right;\n",
       "    }\n",
       "</style>\n",
       "<table border=\"1\" class=\"dataframe\">\n",
       "  <thead>\n",
       "    <tr style=\"text-align: right;\">\n",
       "      <th></th>\n",
       "      <th>Name</th>\n",
       "      <th>FIDE ID</th>\n",
       "      <th>Birthday</th>\n",
       "      <th>Birthplace</th>\n",
       "      <th>Died</th>\n",
       "      <th>TitleYear</th>\n",
       "      <th>Federation</th>\n",
       "      <th>Sex</th>\n",
       "    </tr>\n",
       "  </thead>\n",
       "  <tbody>\n",
       "    <tr>\n",
       "      <th>1107</th>\n",
       "      <td>Mieses, Jacques</td>\n",
       "      <td></td>\n",
       "      <td>1865-02-27</td>\n",
       "      <td>Leipzig</td>\n",
       "      <td>1954-02-23</td>\n",
       "      <td>1950-01-01</td>\n",
       "      <td>England</td>\n",
       "      <td>M</td>\n",
       "    </tr>\n",
       "    <tr>\n",
       "      <th>1067</th>\n",
       "      <td>Maróczy, Géza</td>\n",
       "      <td></td>\n",
       "      <td>1870-03-03</td>\n",
       "      <td>Szeged</td>\n",
       "      <td>1951-05-29</td>\n",
       "      <td>1950-01-01</td>\n",
       "      <td>Hungary</td>\n",
       "      <td>M</td>\n",
       "    </tr>\n",
       "    <tr>\n",
       "      <th>1459</th>\n",
       "      <td>Rubinstein, Akiba</td>\n",
       "      <td></td>\n",
       "      <td>1880-12-01</td>\n",
       "      <td>Stawiski</td>\n",
       "      <td>1961-03-15</td>\n",
       "      <td>1950-01-01</td>\n",
       "      <td>Poland</td>\n",
       "      <td>M</td>\n",
       "    </tr>\n",
       "    <tr>\n",
       "      <th>180</th>\n",
       "      <td>Bernstein, Ossip</td>\n",
       "      <td></td>\n",
       "      <td>1882-10-02</td>\n",
       "      <td>Zhytomyr</td>\n",
       "      <td>1962-11-30</td>\n",
       "      <td>1950-01-01</td>\n",
       "      <td>France</td>\n",
       "      <td>M</td>\n",
       "    </tr>\n",
       "    <tr>\n",
       "      <th>385</th>\n",
       "      <td>Duras, Oldřich</td>\n",
       "      <td></td>\n",
       "      <td>1882-10-30</td>\n",
       "      <td>Prague</td>\n",
       "      <td>1957-01-05</td>\n",
       "      <td>1950-01-01</td>\n",
       "      <td>Czecho­slovakia</td>\n",
       "      <td>M</td>\n",
       "    </tr>\n",
       "    <tr>\n",
       "      <th>1795</th>\n",
       "      <td>Vidmar, Milan</td>\n",
       "      <td></td>\n",
       "      <td>1885-06-22</td>\n",
       "      <td>Ljubljana</td>\n",
       "      <td>1962-10-09</td>\n",
       "      <td>1950-01-01</td>\n",
       "      <td>Yugoslavia</td>\n",
       "      <td>M</td>\n",
       "    </tr>\n",
       "    <tr>\n",
       "      <th>1695</th>\n",
       "      <td>Tartakower, Savielly</td>\n",
       "      <td></td>\n",
       "      <td>1887-02-21</td>\n",
       "      <td>Rostov-on-Don</td>\n",
       "      <td>1956-02-05</td>\n",
       "      <td>1950-01-01</td>\n",
       "      <td>France</td>\n",
       "      <td>M</td>\n",
       "    </tr>\n",
       "    <tr>\n",
       "      <th>875</th>\n",
       "      <td>Kostić, Boris</td>\n",
       "      <td></td>\n",
       "      <td>1887-02-24</td>\n",
       "      <td>Vršac</td>\n",
       "      <td>1963-11-03</td>\n",
       "      <td>1950-01-01</td>\n",
       "      <td>Yugoslavia</td>\n",
       "      <td>M</td>\n",
       "    </tr>\n",
       "    <tr>\n",
       "      <th>973</th>\n",
       "      <td>Levenfish, Grigory</td>\n",
       "      <td></td>\n",
       "      <td>1889-03-21</td>\n",
       "      <td>Petrokov</td>\n",
       "      <td>1961-02-09</td>\n",
       "      <td>1950-01-01</td>\n",
       "      <td>Soviet Union</td>\n",
       "      <td>M</td>\n",
       "    </tr>\n",
       "    <tr>\n",
       "      <th>587</th>\n",
       "      <td>Grünfeld, Ernst</td>\n",
       "      <td></td>\n",
       "      <td>1893-11-21</td>\n",
       "      <td>Vienna</td>\n",
       "      <td>1962-04-03</td>\n",
       "      <td>1950-01-01</td>\n",
       "      <td>Austria</td>\n",
       "      <td>M</td>\n",
       "    </tr>\n",
       "  </tbody>\n",
       "</table>\n",
       "</div>"
      ],
      "text/plain": [
       "                      Name FIDE ID   Birthday     Birthplace       Died  \\\n",
       "1107       Mieses, Jacques         1865-02-27        Leipzig 1954-02-23   \n",
       "1067         Maróczy, Géza         1870-03-03         Szeged 1951-05-29   \n",
       "1459     Rubinstein, Akiba         1880-12-01       Stawiski 1961-03-15   \n",
       "180       Bernstein, Ossip         1882-10-02       Zhytomyr 1962-11-30   \n",
       "385         Duras, Oldřich         1882-10-30         Prague 1957-01-05   \n",
       "1795         Vidmar, Milan         1885-06-22      Ljubljana 1962-10-09   \n",
       "1695  Tartakower, Savielly         1887-02-21  Rostov-on-Don 1956-02-05   \n",
       "875          Kostić, Boris         1887-02-24          Vršac 1963-11-03   \n",
       "973     Levenfish, Grigory         1889-03-21       Petrokov 1961-02-09   \n",
       "587        Grünfeld, Ernst         1893-11-21         Vienna 1962-04-03   \n",
       "\n",
       "      TitleYear       Federation Sex  \n",
       "1107 1950-01-01          England   M  \n",
       "1067 1950-01-01          Hungary   M  \n",
       "1459 1950-01-01           Poland   M  \n",
       "180  1950-01-01           France   M  \n",
       "385  1950-01-01  Czecho­slovakia   M  \n",
       "1795 1950-01-01       Yugoslavia   M  \n",
       "1695 1950-01-01           France   M  \n",
       "875  1950-01-01       Yugoslavia   M  \n",
       "973  1950-01-01     Soviet Union   M  \n",
       "587  1950-01-01          Austria   M  "
      ]
     },
     "execution_count": 232,
     "metadata": {},
     "output_type": "execute_result"
    }
   ],
   "source": [
    "# First and Oldest Grandmasters \n",
    "\n",
    "first_year = gm_df.TitleYear.min()\n",
    "\n",
    "gm_df[gm_df.TitleYear == first_year].sort_values(\"Birthday\")[:10]"
   ]
  },
  {
   "cell_type": "code",
   "execution_count": 233,
   "metadata": {},
   "outputs": [
    {
     "data": {
      "text/plain": [
       "False"
      ]
     },
     "execution_count": 233,
     "metadata": {},
     "output_type": "execute_result"
    }
   ],
   "source": [
    "(gm_df['Died'] < gm_df['TitleYear']).any()"
   ]
  },
  {
   "cell_type": "markdown",
   "metadata": {},
   "source": [
    "After FIDE reorganized post WW2, the title of GM was given to 27 players total in 1950. Some of whom were currently the world's best, others who used to be. No posthumous titles were awarded - leaving out greats such as former world champions  Steinitz, Lasker, Capablanca, and Alekhine. "
   ]
  },
  {
   "cell_type": "markdown",
   "metadata": {},
   "source": [
    "### Age Characteristics "
   ]
  },
  {
   "cell_type": "code",
   "execution_count": 234,
   "metadata": {},
   "outputs": [
    {
     "data": {
      "text/html": [
       "<div>\n",
       "<style scoped>\n",
       "    .dataframe tbody tr th:only-of-type {\n",
       "        vertical-align: middle;\n",
       "    }\n",
       "\n",
       "    .dataframe tbody tr th {\n",
       "        vertical-align: top;\n",
       "    }\n",
       "\n",
       "    .dataframe thead th {\n",
       "        text-align: right;\n",
       "    }\n",
       "</style>\n",
       "<table border=\"1\" class=\"dataframe\">\n",
       "  <thead>\n",
       "    <tr style=\"text-align: right;\">\n",
       "      <th></th>\n",
       "      <th>age</th>\n",
       "    </tr>\n",
       "    <tr>\n",
       "      <th>TitleYear</th>\n",
       "      <th></th>\n",
       "    </tr>\n",
       "  </thead>\n",
       "  <tbody>\n",
       "    <tr>\n",
       "      <th>1950-01-01</th>\n",
       "      <td>48.794521</td>\n",
       "    </tr>\n",
       "    <tr>\n",
       "      <th>1951-01-01</th>\n",
       "      <td>44.843836</td>\n",
       "    </tr>\n",
       "    <tr>\n",
       "      <th>1952-01-01</th>\n",
       "      <td>30.353425</td>\n",
       "    </tr>\n",
       "  </tbody>\n",
       "</table>\n",
       "</div>"
      ],
      "text/plain": [
       "                  age\n",
       "TitleYear            \n",
       "1950-01-01  48.794521\n",
       "1951-01-01  44.843836\n",
       "1952-01-01  30.353425"
      ]
     },
     "execution_count": 234,
     "metadata": {},
     "output_type": "execute_result"
    }
   ],
   "source": [
    "# Average Age when became grandmaster over time \n",
    "\n",
    "gm_df[\"age\"] = (gm_df.TitleYear - gm_df.Birthday)\n",
    "\n",
    "age_over_time = gm_df.groupby('TitleYear').agg({'age':pd.Series.mean}).apply(lambda x: (x.dt.days/365))\n",
    "\n",
    "age_over_time.head(3)"
   ]
  },
  {
   "cell_type": "code",
   "execution_count": 235,
   "metadata": {},
   "outputs": [
    {
     "data": {
      "text/plain": [
       "TitleYear\n",
       "1950-01-01          NaN\n",
       "1951-01-01          NaN\n",
       "1952-01-01    41.330594\n",
       "1953-01-01    39.483105\n",
       "1954-01-01    37.763470\n",
       "                ...    \n",
       "2017-01-01    22.610959\n",
       "2018-01-01    22.669406\n",
       "2019-01-01    22.953425\n",
       "2020-01-01    23.315982\n",
       "2021-01-01    21.971689\n",
       "Name: age, Length: 71, dtype: float64"
      ]
     },
     "execution_count": 235,
     "metadata": {},
     "output_type": "execute_result"
    }
   ],
   "source": [
    "rolling_average = age_over_time[\"age\"].rolling(3).mean()\n",
    "rolling_average"
   ]
  },
  {
   "cell_type": "code",
   "execution_count": 236,
   "metadata": {},
   "outputs": [
    {
     "data": {
      "image/png": "[encoded data removed]",
      "text/plain": [
       "<Figure size 576x288 with 1 Axes>"
      ]
     },
     "metadata": {
      "needs_background": "light"
     },
     "output_type": "display_data"
    }
   ],
   "source": [
    "# Create nice line chart\n",
    "\n",
    "plt.figure(figsize=(8, 4))\n",
    "plt.title('Average Age of New Grandmasters')\n",
    "\n",
    "plt.ylabel('Average Age')\n",
    "plt.xlabel('Year')\n",
    "\n",
    "plt.grid(color='grey')\n",
    "\n",
    "plt.plot(age_over_time.index, age_over_time['age'], color='#E6232E')\n",
    "plt.plot(rolling_average.index, rolling_average.values, color='skyblue', linestyle='dashed', linewidth = 3)\n",
    "\n",
    "plt.show()"
   ]
  },
  {
   "cell_type": "code",
   "execution_count": 237,
   "metadata": {},
   "outputs": [
    {
     "data": {
      "text/html": [
       "<div>\n",
       "<style scoped>\n",
       "    .dataframe tbody tr th:only-of-type {\n",
       "        vertical-align: middle;\n",
       "    }\n",
       "\n",
       "    .dataframe tbody tr th {\n",
       "        vertical-align: top;\n",
       "    }\n",
       "\n",
       "    .dataframe thead th {\n",
       "        text-align: right;\n",
       "    }\n",
       "</style>\n",
       "<table border=\"1\" class=\"dataframe\">\n",
       "  <thead>\n",
       "    <tr style=\"text-align: right;\">\n",
       "      <th></th>\n",
       "      <th>Number of Titles</th>\n",
       "    </tr>\n",
       "    <tr>\n",
       "      <th>TitleYear</th>\n",
       "      <th></th>\n",
       "    </tr>\n",
       "  </thead>\n",
       "  <tbody>\n",
       "    <tr>\n",
       "      <th>1950-01-01</th>\n",
       "      <td>27</td>\n",
       "    </tr>\n",
       "    <tr>\n",
       "      <th>1951-01-01</th>\n",
       "      <td>2</td>\n",
       "    </tr>\n",
       "    <tr>\n",
       "      <th>1952-01-01</th>\n",
       "      <td>6</td>\n",
       "    </tr>\n",
       "    <tr>\n",
       "      <th>1953-01-01</th>\n",
       "      <td>4</td>\n",
       "    </tr>\n",
       "    <tr>\n",
       "      <th>1954-01-01</th>\n",
       "      <td>5</td>\n",
       "    </tr>\n",
       "  </tbody>\n",
       "</table>\n",
       "</div>"
      ],
      "text/plain": [
       "            Number of Titles\n",
       "TitleYear                   \n",
       "1950-01-01                27\n",
       "1951-01-01                 2\n",
       "1952-01-01                 6\n",
       "1953-01-01                 4\n",
       "1954-01-01                 5"
      ]
     },
     "execution_count": 237,
     "metadata": {},
     "output_type": "execute_result"
    }
   ],
   "source": [
    "# Number of titles awarded each year \n",
    "\n",
    "number_titles = gm_df.groupby(\"TitleYear\").agg({\"Name\":pd.Series.count}).rename({\"Name\":\"Number of Titles\"},axis=1)\n",
    "number_titles.head()"
   ]
  },
  {
   "cell_type": "code",
   "execution_count": 238,
   "metadata": {},
   "outputs": [
    {
     "data": {
      "image/png": "[encoded data removed]",
      "text/plain": [
       "<Figure size 576x288 with 2 Axes>"
      ]
     },
     "metadata": {
      "needs_background": "light"
     },
     "output_type": "display_data"
    }
   ],
   "source": [
    "# Create nice line chart\n",
    "\n",
    "plt.figure(figsize=(8, 4))\n",
    "plt.title('Average Age vs Titles Awarded Per Year')\n",
    "\n",
    "ax1 = plt.gca()\n",
    "ax2 = plt.twinx()\n",
    "\n",
    "ax1.set_xlabel('Year')\n",
    "ax1.set_ylabel('Average Age')\n",
    "ax2.set_ylabel('Number of Titles Awarded')\n",
    "\n",
    "\n",
    "plt.grid(color='grey')\n",
    "\n",
    "# ax1.plot(age_over_time.index, age_over_time['age'], color='#E6232E')\n",
    "\n",
    "ax1.plot(rolling_average.index, rolling_average.values, 'r')\n",
    "ax2.plot(number_titles.index, number_titles.values, '--b')\n",
    "\n",
    "plt.show()"
   ]
  },
  {
   "cell_type": "markdown",
   "metadata": {},
   "source": [
    "### Youngest Grandmaster Across Time"
   ]
  },
  {
   "cell_type": "code",
   "execution_count": 239,
   "metadata": {},
   "outputs": [
    {
     "data": {
      "text/html": [
       "<div>\n",
       "<style scoped>\n",
       "    .dataframe tbody tr th:only-of-type {\n",
       "        vertical-align: middle;\n",
       "    }\n",
       "\n",
       "    .dataframe tbody tr th {\n",
       "        vertical-align: top;\n",
       "    }\n",
       "\n",
       "    .dataframe thead th {\n",
       "        text-align: right;\n",
       "    }\n",
       "</style>\n",
       "<table border=\"1\" class=\"dataframe\">\n",
       "  <thead>\n",
       "    <tr style=\"text-align: right;\">\n",
       "      <th></th>\n",
       "      <th>age</th>\n",
       "    </tr>\n",
       "    <tr>\n",
       "      <th>TitleYear</th>\n",
       "      <th></th>\n",
       "    </tr>\n",
       "  </thead>\n",
       "  <tbody>\n",
       "    <tr>\n",
       "      <th>1950-01-01</th>\n",
       "      <td>9448 days</td>\n",
       "    </tr>\n",
       "    <tr>\n",
       "      <th>1951-01-01</th>\n",
       "      <td>10195 days</td>\n",
       "    </tr>\n",
       "    <tr>\n",
       "      <th>1952-01-01</th>\n",
       "      <td>8233 days</td>\n",
       "    </tr>\n",
       "  </tbody>\n",
       "</table>\n",
       "</div>"
      ],
      "text/plain": [
       "                  age\n",
       "TitleYear            \n",
       "1950-01-01  9448 days\n",
       "1951-01-01 10195 days\n",
       "1952-01-01  8233 days"
      ]
     },
     "execution_count": 239,
     "metadata": {},
     "output_type": "execute_result"
    }
   ],
   "source": [
    "#Youngest Each Year\n",
    "youngest_each_year = gm_df.sort_values(by=['TitleYear','age']).groupby('TitleYear').agg({'age':pd.Series.min})\n",
    "youngest_each_year.head(3)"
   ]
  },
  {
   "cell_type": "code",
   "execution_count": 240,
   "metadata": {},
   "outputs": [],
   "source": [
    "#Find index for current youngest at each year\n",
    "\n",
    "indexer = [(youngest_each_year.loc[year] <= youngest_each_year[:year].min()).values[0] for year in youngest_each_year.index] #Boolean Array\n",
    "ages_to_select = youngest_each_year[indexer].age.to_list()"
   ]
  },
  {
   "cell_type": "code",
   "execution_count": 241,
   "metadata": {},
   "outputs": [
    {
     "data": {
      "text/html": [
       "<div>\n",
       "<style scoped>\n",
       "    .dataframe tbody tr th:only-of-type {\n",
       "        vertical-align: middle;\n",
       "    }\n",
       "\n",
       "    .dataframe tbody tr th {\n",
       "        vertical-align: top;\n",
       "    }\n",
       "\n",
       "    .dataframe thead th {\n",
       "        text-align: right;\n",
       "    }\n",
       "</style>\n",
       "<table border=\"1\" class=\"dataframe\">\n",
       "  <thead>\n",
       "    <tr style=\"text-align: right;\">\n",
       "      <th></th>\n",
       "      <th>Name</th>\n",
       "      <th>FIDE ID</th>\n",
       "      <th>Birthday</th>\n",
       "      <th>Birthplace</th>\n",
       "      <th>Died</th>\n",
       "      <th>TitleYear</th>\n",
       "      <th>Federation</th>\n",
       "      <th>Sex</th>\n",
       "      <th>age</th>\n",
       "    </tr>\n",
       "  </thead>\n",
       "  <tbody>\n",
       "    <tr>\n",
       "      <th>233</th>\n",
       "      <td>Bronstein, David</td>\n",
       "      <td>4101359</td>\n",
       "      <td>1924-02-19</td>\n",
       "      <td>Belaya Tserkov</td>\n",
       "      <td>2006-12-05</td>\n",
       "      <td>1950-01-01</td>\n",
       "      <td>Soviet Union</td>\n",
       "      <td>M</td>\n",
       "      <td>9448 days</td>\n",
       "    </tr>\n",
       "    <tr>\n",
       "      <th>1317</th>\n",
       "      <td>Petrosian, Tigran</td>\n",
       "      <td></td>\n",
       "      <td>1929-06-17</td>\n",
       "      <td>Tbilisi</td>\n",
       "      <td>1984-08-13</td>\n",
       "      <td>1952-01-01</td>\n",
       "      <td>Soviet Union</td>\n",
       "      <td>M</td>\n",
       "      <td>8233 days</td>\n",
       "    </tr>\n",
       "    <tr>\n",
       "      <th>1618</th>\n",
       "      <td>Spassky, Boris</td>\n",
       "      <td>600024</td>\n",
       "      <td>1937-01-30</td>\n",
       "      <td>Leningrad</td>\n",
       "      <td>NaT</td>\n",
       "      <td>1955-01-01</td>\n",
       "      <td>Russia</td>\n",
       "      <td>M</td>\n",
       "      <td>6545 days</td>\n",
       "    </tr>\n",
       "    <tr>\n",
       "      <th>453</th>\n",
       "      <td>Fischer, Robert James (Bobby)</td>\n",
       "      <td>2000016</td>\n",
       "      <td>1943-03-09</td>\n",
       "      <td>Chicago</td>\n",
       "      <td>2008-01-17</td>\n",
       "      <td>1958-01-01</td>\n",
       "      <td>United States</td>\n",
       "      <td>M</td>\n",
       "      <td>5412 days</td>\n",
       "    </tr>\n",
       "    <tr>\n",
       "      <th>963</th>\n",
       "      <td>Leko, Peter</td>\n",
       "      <td>703303</td>\n",
       "      <td>1979-09-08</td>\n",
       "      <td>Subotica</td>\n",
       "      <td>NaT</td>\n",
       "      <td>1994-01-01</td>\n",
       "      <td>Hungary</td>\n",
       "      <td>M</td>\n",
       "      <td>5229 days</td>\n",
       "    </tr>\n",
       "    <tr>\n",
       "      <th>116</th>\n",
       "      <td>Bacrot, Étienne</td>\n",
       "      <td>605506</td>\n",
       "      <td>1983-01-22</td>\n",
       "      <td>Lille</td>\n",
       "      <td>NaT</td>\n",
       "      <td>1997-01-01</td>\n",
       "      <td>France</td>\n",
       "      <td>M</td>\n",
       "      <td>5093 days</td>\n",
       "    </tr>\n",
       "    <tr>\n",
       "      <th>1389</th>\n",
       "      <td>Radjabov, Teimour</td>\n",
       "      <td>13400924</td>\n",
       "      <td>1987-03-12</td>\n",
       "      <td>Baku</td>\n",
       "      <td>NaT</td>\n",
       "      <td>2001-01-01</td>\n",
       "      <td>Azerbaijan</td>\n",
       "      <td>M</td>\n",
       "      <td>5044 days</td>\n",
       "    </tr>\n",
       "    <tr>\n",
       "      <th>785</th>\n",
       "      <td>Karjakin, Sergey</td>\n",
       "      <td>14109603</td>\n",
       "      <td>1990-01-12</td>\n",
       "      <td>Simferopol</td>\n",
       "      <td>NaT</td>\n",
       "      <td>2003-01-01</td>\n",
       "      <td>Ukraine</td>\n",
       "      <td>M</td>\n",
       "      <td>4737 days</td>\n",
       "    </tr>\n",
       "    <tr>\n",
       "      <th>1194</th>\n",
       "      <td>Negi, Parimarjan</td>\n",
       "      <td>5016690</td>\n",
       "      <td>1993-02-09</td>\n",
       "      <td>New Delhi</td>\n",
       "      <td>NaT</td>\n",
       "      <td>2006-01-01</td>\n",
       "      <td>India</td>\n",
       "      <td>M</td>\n",
       "      <td>4709 days</td>\n",
       "    </tr>\n",
       "    <tr>\n",
       "      <th>1364</th>\n",
       "      <td>Praggna­nandhaa R</td>\n",
       "      <td>25059530</td>\n",
       "      <td>2005-08-10</td>\n",
       "      <td>Chennai</td>\n",
       "      <td>NaT</td>\n",
       "      <td>2018-01-01</td>\n",
       "      <td>India</td>\n",
       "      <td>M</td>\n",
       "      <td>4527 days</td>\n",
       "    </tr>\n",
       "  </tbody>\n",
       "</table>\n",
       "</div>"
      ],
      "text/plain": [
       "                               Name   FIDE ID   Birthday      Birthplace  \\\n",
       "233                Bronstein, David   4101359 1924-02-19  Belaya Tserkov   \n",
       "1317              Petrosian, Tigran           1929-06-17         Tbilisi   \n",
       "1618                 Spassky, Boris    600024 1937-01-30       Leningrad   \n",
       "453   Fischer, Robert James (Bobby)   2000016 1943-03-09         Chicago   \n",
       "963                     Leko, Peter    703303 1979-09-08        Subotica   \n",
       "116                 Bacrot, Étienne    605506 1983-01-22           Lille   \n",
       "1389              Radjabov, Teimour  13400924 1987-03-12            Baku   \n",
       "785                Karjakin, Sergey  14109603 1990-01-12      Simferopol   \n",
       "1194               Negi, Parimarjan   5016690 1993-02-09       New Delhi   \n",
       "1364              Praggna­nandhaa R  25059530 2005-08-10         Chennai   \n",
       "\n",
       "           Died  TitleYear     Federation Sex       age  \n",
       "233  2006-12-05 1950-01-01   Soviet Union   M 9448 days  \n",
       "1317 1984-08-13 1952-01-01   Soviet Union   M 8233 days  \n",
       "1618        NaT 1955-01-01         Russia   M 6545 days  \n",
       "453  2008-01-17 1958-01-01  United States   M 5412 days  \n",
       "963         NaT 1994-01-01        Hungary   M 5229 days  \n",
       "116         NaT 1997-01-01         France   M 5093 days  \n",
       "1389        NaT 2001-01-01     Azerbaijan   M 5044 days  \n",
       "785         NaT 2003-01-01        Ukraine   M 4737 days  \n",
       "1194        NaT 2006-01-01          India   M 4709 days  \n",
       "1364        NaT 2018-01-01          India   M 4527 days  "
      ]
     },
     "execution_count": 241,
     "metadata": {},
     "output_type": "execute_result"
    }
   ],
   "source": [
    "youngest_grandmasters = gm_df[gm_df[\"age\"].isin(ages_to_select)].drop_duplicates(subset=['age'])\n",
    "youngest_grandmasters.sort_values('TitleYear')"
   ]
  },
  {
   "cell_type": "markdown",
   "metadata": {},
   "source": [
    "### Grandmaster by Location"
   ]
  },
  {
   "cell_type": "code",
   "execution_count": 242,
   "metadata": {},
   "outputs": [
    {
     "data": {
      "text/plain": [
       "Russia           252\n",
       "Ukraine          102\n",
       "Soviet Union      97\n",
       "United States     79\n",
       "Germany           79\n",
       "Hungary           66\n",
       "India             66\n",
       "Poland            51\n",
       "China             50\n",
       "Spain             48\n",
       "Name: Federation, dtype: int64"
      ]
     },
     "execution_count": 242,
     "metadata": {},
     "output_type": "execute_result"
    }
   ],
   "source": [
    "# Most Popular Countries \n",
    "\n",
    "gm_df['Federation'].value_counts().sort_values(ascending=False)[:10]"
   ]
  },
  {
   "cell_type": "code",
   "execution_count": 351,
   "metadata": {},
   "outputs": [
    {
     "data": {
      "text/html": [
       "<div>\n",
       "<style scoped>\n",
       "    .dataframe tbody tr th:only-of-type {\n",
       "        vertical-align: middle;\n",
       "    }\n",
       "\n",
       "    .dataframe tbody tr th {\n",
       "        vertical-align: top;\n",
       "    }\n",
       "\n",
       "    .dataframe thead th {\n",
       "        text-align: right;\n",
       "    }\n",
       "</style>\n",
       "<table border=\"1\" class=\"dataframe\">\n",
       "  <thead>\n",
       "    <tr style=\"text-align: right;\">\n",
       "      <th></th>\n",
       "      <th>Country</th>\n",
       "      <th>Count</th>\n",
       "    </tr>\n",
       "  </thead>\n",
       "  <tbody>\n",
       "    <tr>\n",
       "      <th>0</th>\n",
       "      <td>Russia</td>\n",
       "      <td>252</td>\n",
       "    </tr>\n",
       "    <tr>\n",
       "      <th>1</th>\n",
       "      <td>Ukraine</td>\n",
       "      <td>102</td>\n",
       "    </tr>\n",
       "    <tr>\n",
       "      <th>2</th>\n",
       "      <td>Soviet Union</td>\n",
       "      <td>97</td>\n",
       "    </tr>\n",
       "    <tr>\n",
       "      <th>3</th>\n",
       "      <td>United States</td>\n",
       "      <td>79</td>\n",
       "    </tr>\n",
       "    <tr>\n",
       "      <th>4</th>\n",
       "      <td>Germany</td>\n",
       "      <td>79</td>\n",
       "    </tr>\n",
       "  </tbody>\n",
       "</table>\n",
       "</div>"
      ],
      "text/plain": [
       "         Country  Count\n",
       "0         Russia    252\n",
       "1        Ukraine    102\n",
       "2   Soviet Union     97\n",
       "3  United States     79\n",
       "4        Germany     79"
      ]
     },
     "execution_count": 351,
     "metadata": {},
     "output_type": "execute_result"
    }
   ],
   "source": [
    "country_counts = gm_df['Federation'].value_counts()\n",
    "country_counts = pd.DataFrame(country_counts).reset_index().rename({'index':'Country','Federation':'Count'}, axis=1)\n",
    "country_counts.head()"
   ]
  },
  {
   "cell_type": "code",
   "execution_count": 352,
   "metadata": {},
   "outputs": [],
   "source": [
    "# Get Country Codes import requests \n",
    "\n",
    "def get_country_code(country):\n",
    "    \n",
    "    URL = f\"https://restcountries.eu/rest/v2/name/{country}\"\n",
    "    response = requests.get(url=URL)\n",
    "    if response.status_code == 200:\n",
    "        data = response.json()\n",
    "        # If only one name found \n",
    "        if len(data) == 1:\n",
    "            return data[0][\"alpha3Code\"]\n",
    "        \n",
    "        # If multiple found \n",
    "        else:\n",
    "            URL = f\"https://restcountries.eu/rest/v2/name/{country}/?fullText=True\"\n",
    "            response = requests.get(url=URL)\n",
    "            \n",
    "            if response.status_code == 200:\n",
    "                data = response.json()\n",
    "                return data[0]['alpha3Code']\n",
    "            \n",
    "            else:\n",
    "                return \"multiple partial matches\"\n",
    "                \n",
    "    else:\n",
    "        return np.nan\n",
    "        "
   ]
  },
  {
   "cell_type": "code",
   "execution_count": 353,
   "metadata": {},
   "outputs": [],
   "source": [
    "country_counts['Locations'] = country_counts.Country.map(get_country_code)"
   ]
  },
  {
   "cell_type": "code",
   "execution_count": 354,
   "metadata": {},
   "outputs": [
    {
     "data": {
      "text/html": [
       "<div>\n",
       "<style scoped>\n",
       "    .dataframe tbody tr th:only-of-type {\n",
       "        vertical-align: middle;\n",
       "    }\n",
       "\n",
       "    .dataframe tbody tr th {\n",
       "        vertical-align: top;\n",
       "    }\n",
       "\n",
       "    .dataframe thead th {\n",
       "        text-align: right;\n",
       "    }\n",
       "</style>\n",
       "<table border=\"1\" class=\"dataframe\">\n",
       "  <thead>\n",
       "    <tr style=\"text-align: right;\">\n",
       "      <th></th>\n",
       "      <th>Country</th>\n",
       "      <th>Count</th>\n",
       "      <th>Locations</th>\n",
       "    </tr>\n",
       "  </thead>\n",
       "  <tbody>\n",
       "    <tr>\n",
       "      <th>2</th>\n",
       "      <td>Soviet Union</td>\n",
       "      <td>97</td>\n",
       "      <td>NaN</td>\n",
       "    </tr>\n",
       "    <tr>\n",
       "      <th>3</th>\n",
       "      <td>United States</td>\n",
       "      <td>79</td>\n",
       "      <td>multiple partial matches</td>\n",
       "    </tr>\n",
       "    <tr>\n",
       "      <th>11</th>\n",
       "      <td>Yugoslavia</td>\n",
       "      <td>44</td>\n",
       "      <td>NaN</td>\n",
       "    </tr>\n",
       "    <tr>\n",
       "      <th>13</th>\n",
       "      <td>England</td>\n",
       "      <td>43</td>\n",
       "      <td>NaN</td>\n",
       "    </tr>\n",
       "    <tr>\n",
       "      <th>28</th>\n",
       "      <td>Iran</td>\n",
       "      <td>17</td>\n",
       "      <td>multiple partial matches</td>\n",
       "    </tr>\n",
       "    <tr>\n",
       "      <th>39</th>\n",
       "      <td>West Germany</td>\n",
       "      <td>13</td>\n",
       "      <td>NaN</td>\n",
       "    </tr>\n",
       "    <tr>\n",
       "      <th>44</th>\n",
       "      <td>Czecho­slovakia</td>\n",
       "      <td>11</td>\n",
       "      <td>NaN</td>\n",
       "    </tr>\n",
       "    <tr>\n",
       "      <th>50</th>\n",
       "      <td>North Macedonia</td>\n",
       "      <td>8</td>\n",
       "      <td>NaN</td>\n",
       "    </tr>\n",
       "    <tr>\n",
       "      <th>64</th>\n",
       "      <td>Scotland</td>\n",
       "      <td>5</td>\n",
       "      <td>NaN</td>\n",
       "    </tr>\n",
       "    <tr>\n",
       "      <th>67</th>\n",
       "      <td>East Germany</td>\n",
       "      <td>4</td>\n",
       "      <td>NaN</td>\n",
       "    </tr>\n",
       "    <tr>\n",
       "      <th>76</th>\n",
       "      <td>Serbia and Montenegro</td>\n",
       "      <td>2</td>\n",
       "      <td>NaN</td>\n",
       "    </tr>\n",
       "    <tr>\n",
       "      <th>93</th>\n",
       "      <td>Moldava</td>\n",
       "      <td>1</td>\n",
       "      <td>NaN</td>\n",
       "    </tr>\n",
       "  </tbody>\n",
       "</table>\n",
       "</div>"
      ],
      "text/plain": [
       "                  Country  Count                 Locations\n",
       "2            Soviet Union     97                       NaN\n",
       "3           United States     79  multiple partial matches\n",
       "11             Yugoslavia     44                       NaN\n",
       "13                England     43                       NaN\n",
       "28                   Iran     17  multiple partial matches\n",
       "39           West Germany     13                       NaN\n",
       "44        Czecho­slovakia     11                       NaN\n",
       "50        North Macedonia      8                       NaN\n",
       "64               Scotland      5                       NaN\n",
       "67           East Germany      4                       NaN\n",
       "76  Serbia and Montenegro      2                       NaN\n",
       "93                Moldava      1                       NaN"
      ]
     },
     "execution_count": 354,
     "metadata": {},
     "output_type": "execute_result"
    }
   ],
   "source": [
    "country_counts[country_counts['Locations'].isin([np.nan, \"multiple partial matches\"])]"
   ]
  },
  {
   "cell_type": "code",
   "execution_count": 356,
   "metadata": {},
   "outputs": [],
   "source": [
    "mapping = {\n",
    "    \"Country\": {\n",
    "        \"United States\": \"United States of America\",\n",
    "        \"England\": \"United Kingdom of Great Britain and Northern Ireland\",\n",
    "        \"Iran\": \"Iran (Islamic Republic of)\",\n",
    "        \n",
    "        \"Serbia and Montenegro\": \"Serbia\", \n",
    "        \"Yugoslavia\": \"Serbia\", \n",
    "        \"West Germany\": \"Germany\", \n",
    "        \"East Germany\": \"Germany\", \n",
    "        \"Soviet Union\": \"Russia\"\n",
    "    }\n",
    "}\n",
    "\n",
    "country_counts = country_counts.replace(mapping)\n",
    "country_counts = country_counts.groupby(\"Country\",).agg({\"Count\":pd.Series.sum, \"Locations\":pd.Series.sample}).reset_index()"
   ]
  },
  {
   "cell_type": "code",
   "execution_count": 359,
   "metadata": {},
   "outputs": [],
   "source": [
    "for country in [\"United States of America\",\"United Kingdom of Great Britain and Northern Ireland\",\"Iran (Islamic Republic of)\"]:\n",
    "    country_counts.loc[country_counts[\"Country\"]==country,'Locations'] = get_country_code(country)        "
   ]
  },
  {
   "cell_type": "code",
   "execution_count": 246,
   "metadata": {},
   "outputs": [],
   "source": [
    "# Create geographic map of World"
   ]
  },
  {
   "cell_type": "code",
   "execution_count": 367,
   "metadata": {},
   "outputs": [
    {
     "data": {
      "application/vnd.plotly.v1+json": {
       "config": {
        "plotlyServerURL": "https://plot.ly"
       },
       "data": [
        {
         "coloraxis": "coloraxis",
         "geo": "geo",
         "hovertemplate": "<b>%{hovertext}</b><br><br>Locations=%{location}<br>Count=%{z}<extra></extra>",
         "hovertext": [
          "Albania",
          "Algeria",
          "Andorra",
          "Argentina",
          "Armenia",
          "Australia",
          "Austria",
          "Azerbaijan",
          "Bangladesh",
          "Belarus",
          "Belgium",
          "Bolivia",
          "Bosnia and Herzegovina",
          "Brazil",
          "Bulgaria",
          "Canada",
          "Chile",
          "China",
          "Colombia",
          "Costa Rica",
          "Croatia",
          "Cuba",
          "Czech Republic",
          "Czecho­slovakia",
          "Denmark",
          "Dominican Republic",
          "Ecuador",
          "Egypt",
          "Estonia",
          "FIDE",
          "Faroe Islands",
          "Finland",
          "France",
          "Georgia",
          "Germany",
          "Greece",
          "Hungary",
          "Iceland",
          "India",
          "Indonesia",
          "Iran (Islamic Republic of)",
          "Israel",
          "Italy",
          "Kazakhstan",
          "Kyrgyzstan",
          "Latvia",
          "Lithuania",
          "Luxembourg",
          "Mexico",
          "Moldava",
          "Moldova",
          "Mongolia",
          "Montenegro",
          "Morocco",
          "Myanmar",
          "Netherlands",
          "New Zealand",
          "North Macedonia",
          "Norway",
          "Paraguay",
          "Peru",
          "Philippines",
          "Poland",
          "Portugal",
          "Qatar",
          "Romania",
          "Russia",
          "Scotland",
          "Serbia",
          "Singapore",
          "Slovakia",
          "Slovenia",
          "South Africa",
          "Spain",
          "Sweden",
          "Switzerland",
          "Tajikistan",
          "Tunisia",
          "Turkey",
          "Turkmenistan",
          "Ukraine",
          "United Arab Emirates",
          "United Kingdom of Great Britain and Northern Ireland",
          "United States of America",
          "Uruguay",
          "Uzbekistan",
          "Venezuela",
          "Vietnam",
          "Zambia"
         ],
         "locations": [
          "ALB",
          "DZA",
          "AND",
          "ARG",
          "ARM",
          "AUS",
          "AUT",
          "AZE",
          "BGD",
          "BLR",
          "BEL",
          "BOL",
          "BIH",
          "BRA",
          "BGR",
          "CAN",
          "CHL",
          "CHN",
          "COL",
          "CRI",
          "HRV",
          "CUB",
          "CZE",
          null,
          "DNK",
          "DOM",
          "ECU",
          "EGY",
          "EST",
          "SOM",
          "FRO",
          "FIN",
          "FRA",
          "GEO",
          null,
          "GRC",
          "HUN",
          "ISL",
          "IND",
          "IDN",
          "IRN",
          "ISR",
          "ITA",
          "KAZ",
          "KGZ",
          "LVA",
          "LTU",
          "LUX",
          "MEX",
          null,
          "MDA",
          "MNG",
          "MNE",
          "MAR",
          "MMR",
          "NLD",
          "NZL",
          null,
          "NOR",
          "PRY",
          "PER",
          "PHL",
          "POL",
          "PRT",
          "QAT",
          "ROU",
          "RUS",
          null,
          null,
          "SGP",
          "SVK",
          "SVN",
          "ZAF",
          "ESP",
          "SWE",
          "CHE",
          "TJK",
          "TUN",
          "TUR",
          "TKM",
          "UKR",
          "ARE",
          "GBR",
          "USA",
          "URY",
          "UZB",
          "VEN",
          "VNM",
          "ZMB"
         ],
         "name": "",
         "type": "choropleth",
         "z": [
          1,
          2,
          2,
          33,
          42,
          11,
          8,
          28,
          5,
          20,
          7,
          1,
          5,
          14,
          41,
          14,
          6,
          50,
          10,
          2,
          23,
          35,
          27,
          11,
          16,
          1,
          1,
          6,
          6,
          1,
          1,
          6,
          47,
          31,
          96,
          15,
          66,
          13,
          66,
          8,
          17,
          43,
          17,
          15,
          1,
          13,
          11,
          1,
          7,
          1,
          7,
          8,
          6,
          1,
          1,
          39,
          1,
          8,
          16,
          2,
          11,
          16,
          51,
          4,
          2,
          26,
          349,
          5,
          88,
          2,
          13,
          10,
          1,
          48,
          23,
          7,
          2,
          3,
          10,
          6,
          102,
          2,
          43,
          79,
          1,
          21,
          2,
          11,
          1
         ]
        }
       ],
       "layout": {
        "autosize": true,
        "coloraxis": {
         "colorbar": {
          "title": {
           "text": "Count"
          }
         },
         "colorscale": [
          [
           0,
           "rgb(210, 251, 212)"
          ],
          [
           0.16666666666666666,
           "rgb(165, 219, 194)"
          ],
          [
           0.3333333333333333,
           "rgb(123, 188, 176)"
          ],
          [
           0.5,
           "rgb(85, 156, 158)"
          ],
          [
           0.6666666666666666,
           "rgb(58, 124, 137)"
          ],
          [
           0.8333333333333334,
           "rgb(35, 93, 114)"
          ],
          [
           1,
           "rgb(18, 63, 90)"
          ]
         ],
         "showscale": true
        },
        "geo": {
         "center": {},
         "domain": {
          "x": [
           0,
           1
          ],
          "y": [
           0,
           1
          ]
         }
        },
        "legend": {
         "tracegroupgap": 0
        },
        "margin": {
         "t": 60
        },
        "template": {
         "data": {
          "bar": [
           {
            "error_x": {
             "color": "#2a3f5f"
            },
            "error_y": {
             "color": "#2a3f5f"
            },
            "marker": {
             "line": {
              "color": "#E5ECF6",
              "width": 0.5
             }
            },
            "type": "bar"
           }
          ],
          "barpolar": [
           {
            "marker": {
             "line": {
              "color": "#E5ECF6",
              "width": 0.5
             }
            },
            "type": "barpolar"
           }
          ],
          "carpet": [
           {
            "aaxis": {
             "endlinecolor": "#2a3f5f",
             "gridcolor": "white",
             "linecolor": "white",
             "minorgridcolor": "white",
             "startlinecolor": "#2a3f5f"
            },
            "baxis": {
             "endlinecolor": "#2a3f5f",
             "gridcolor": "white",
             "linecolor": "white",
             "minorgridcolor": "white",
             "startlinecolor": "#2a3f5f"
            },
            "type": "carpet"
           }
          ],
          "choropleth": [
           {
            "colorbar": {
             "outlinewidth": 0,
             "ticks": ""
            },
            "type": "choropleth"
           }
          ],
          "contour": [
           {
            "colorbar": {
             "outlinewidth": 0,
             "ticks": ""
            },
            "colorscale": [
             [
              0,
              "#0d0887"
             ],
             [
              0.1111111111111111,
              "#46039f"
             ],
             [
              0.2222222222222222,
              "#7201a8"
             ],
             [
              0.3333333333333333,
              "#9c179e"
             ],
             [
              0.4444444444444444,
              "#bd3786"
             ],
             [
              0.5555555555555556,
              "#d8576b"
             ],
             [
              0.6666666666666666,
              "#ed7953"
             ],
             [
              0.7777777777777778,
              "#fb9f3a"
             ],
             [
              0.8888888888888888,
              "#fdca26"
             ],
             [
              1,
              "#f0f921"
             ]
            ],
            "type": "contour"
           }
          ],
          "contourcarpet": [
           {
            "colorbar": {
             "outlinewidth": 0,
             "ticks": ""
            },
            "type": "contourcarpet"
           }
          ],
          "heatmap": [
           {
            "colorbar": {
             "outlinewidth": 0,
             "ticks": ""
            },
            "colorscale": [
             [
              0,
              "#0d0887"
             ],
             [
              0.1111111111111111,
              "#46039f"
             ],
             [
              0.2222222222222222,
              "#7201a8"
             ],
             [
              0.3333333333333333,
              "#9c179e"
             ],
             [
              0.4444444444444444,
              "#bd3786"
             ],
             [
              0.5555555555555556,
              "#d8576b"
             ],
             [
              0.6666666666666666,
              "#ed7953"
             ],
             [
              0.7777777777777778,
              "#fb9f3a"
             ],
             [
              0.8888888888888888,
              "#fdca26"
             ],
             [
              1,
              "#f0f921"
             ]
            ],
            "type": "heatmap"
           }
          ],
          "heatmapgl": [
           {
            "colorbar": {
             "outlinewidth": 0,
             "ticks": ""
            },
            "colorscale": [
             [
              0,
              "#0d0887"
             ],
             [
              0.1111111111111111,
              "#46039f"
             ],
             [
              0.2222222222222222,
              "#7201a8"
             ],
             [
              0.3333333333333333,
              "#9c179e"
             ],
             [
              0.4444444444444444,
              "#bd3786"
             ],
             [
              0.5555555555555556,
              "#d8576b"
             ],
             [
              0.6666666666666666,
              "#ed7953"
             ],
             [
              0.7777777777777778,
              "#fb9f3a"
             ],
             [
              0.8888888888888888,
              "#fdca26"
             ],
             [
              1,
              "#f0f921"
             ]
            ],
            "type": "heatmapgl"
           }
          ],
          "histogram": [
           {
            "marker": {
             "colorbar": {
              "outlinewidth": 0,
              "ticks": ""
             }
            },
            "type": "histogram"
           }
          ],
          "histogram2d": [
           {
            "colorbar": {
             "outlinewidth": 0,
             "ticks": ""
            },
            "colorscale": [
             [
              0,
              "#0d0887"
             ],
             [
              0.1111111111111111,
              "#46039f"
             ],
             [
              0.2222222222222222,
              "#7201a8"
             ],
             [
              0.3333333333333333,
              "#9c179e"
             ],
             [
              0.4444444444444444,
              "#bd3786"
             ],
             [
              0.5555555555555556,
              "#d8576b"
             ],
             [
              0.6666666666666666,
              "#ed7953"
             ],
             [
              0.7777777777777778,
              "#fb9f3a"
             ],
             [
              0.8888888888888888,
              "#fdca26"
             ],
             [
              1,
              "#f0f921"
             ]
            ],
            "type": "histogram2d"
           }
          ],
          "histogram2dcontour": [
           {
            "colorbar": {
             "outlinewidth": 0,
             "ticks": ""
            },
            "colorscale": [
             [
              0,
              "#0d0887"
             ],
             [
              0.1111111111111111,
              "#46039f"
             ],
             [
              0.2222222222222222,
              "#7201a8"
             ],
             [
              0.3333333333333333,
              "#9c179e"
             ],
             [
              0.4444444444444444,
              "#bd3786"
             ],
             [
              0.5555555555555556,
              "#d8576b"
             ],
             [
              0.6666666666666666,
              "#ed7953"
             ],
             [
              0.7777777777777778,
              "#fb9f3a"
             ],
             [
              0.8888888888888888,
              "#fdca26"
             ],
             [
              1,
              "#f0f921"
             ]
            ],
            "type": "histogram2dcontour"
           }
          ],
          "mesh3d": [
           {
            "colorbar": {
             "outlinewidth": 0,
             "ticks": ""
            },
            "type": "mesh3d"
           }
          ],
          "parcoords": [
           {
            "line": {
             "colorbar": {
              "outlinewidth": 0,
              "ticks": ""
             }
            },
            "type": "parcoords"
           }
          ],
          "pie": [
           {
            "automargin": true,
            "type": "pie"
           }
          ],
          "scatter": [
           {
            "marker": {
             "colorbar": {
              "outlinewidth": 0,
              "ticks": ""
             }
            },
            "type": "scatter"
           }
          ],
          "scatter3d": [
           {
            "line": {
             "colorbar": {
              "outlinewidth": 0,
              "ticks": ""
             }
            },
            "marker": {
             "colorbar": {
              "outlinewidth": 0,
              "ticks": ""
             }
            },
            "type": "scatter3d"
           }
          ],
          "scattercarpet": [
           {
            "marker": {
             "colorbar": {
              "outlinewidth": 0,
              "ticks": ""
             }
            },
            "type": "scattercarpet"
           }
          ],
          "scattergeo": [
           {
            "marker": {
             "colorbar": {
              "outlinewidth": 0,
              "ticks": ""
             }
            },
            "type": "scattergeo"
           }
          ],
          "scattergl": [
           {
            "marker": {
             "colorbar": {
              "outlinewidth": 0,
              "ticks": ""
             }
            },
            "type": "scattergl"
           }
          ],
          "scattermapbox": [
           {
            "marker": {
             "colorbar": {
              "outlinewidth": 0,
              "ticks": ""
             }
            },
            "type": "scattermapbox"
           }
          ],
          "scatterpolar": [
           {
            "marker": {
             "colorbar": {
              "outlinewidth": 0,
              "ticks": ""
             }
            },
            "type": "scatterpolar"
           }
          ],
          "scatterpolargl": [
           {
            "marker": {
             "colorbar": {
              "outlinewidth": 0,
              "ticks": ""
             }
            },
            "type": "scatterpolargl"
           }
          ],
          "scatterternary": [
           {
            "marker": {
             "colorbar": {
              "outlinewidth": 0,
              "ticks": ""
             }
            },
            "type": "scatterternary"
           }
          ],
          "surface": [
           {
            "colorbar": {
             "outlinewidth": 0,
             "ticks": ""
            },
            "colorscale": [
             [
              0,
              "#0d0887"
             ],
             [
              0.1111111111111111,
              "#46039f"
             ],
             [
              0.2222222222222222,
              "#7201a8"
             ],
             [
              0.3333333333333333,
              "#9c179e"
             ],
             [
              0.4444444444444444,
              "#bd3786"
             ],
             [
              0.5555555555555556,
              "#d8576b"
             ],
             [
              0.6666666666666666,
              "#ed7953"
             ],
             [
              0.7777777777777778,
              "#fb9f3a"
             ],
             [
              0.8888888888888888,
              "#fdca26"
             ],
             [
              1,
              "#f0f921"
             ]
            ],
            "type": "surface"
           }
          ],
          "table": [
           {
            "cells": {
             "fill": {
              "color": "#EBF0F8"
             },
             "line": {
              "color": "white"
             }
            },
            "header": {
             "fill": {
              "color": "#C8D4E3"
             },
             "line": {
              "color": "white"
             }
            },
            "type": "table"
           }
          ]
         },
         "layout": {
          "annotationdefaults": {
           "arrowcolor": "#2a3f5f",
           "arrowhead": 0,
           "arrowwidth": 1
          },
          "autotypenumbers": "strict",
          "coloraxis": {
           "colorbar": {
            "outlinewidth": 0,
            "ticks": ""
           }
          },
          "colorscale": {
           "diverging": [
            [
             0,
             "#8e0152"
            ],
            [
             0.1,
             "#c51b7d"
            ],
            [
             0.2,
             "#de77ae"
            ],
            [
             0.3,
             "#f1b6da"
            ],
            [
             0.4,
             "#fde0ef"
            ],
            [
             0.5,
             "#f7f7f7"
            ],
            [
             0.6,
             "#e6f5d0"
            ],
            [
             0.7,
             "#b8e186"
            ],
            [
             0.8,
             "#7fbc41"
            ],
            [
             0.9,
             "#4d9221"
            ],
            [
             1,
             "#276419"
            ]
           ],
           "sequential": [
            [
             0,
             "#0d0887"
            ],
            [
             0.1111111111111111,
             "#46039f"
            ],
            [
             0.2222222222222222,
             "#7201a8"
            ],
            [
             0.3333333333333333,
             "#9c179e"
            ],
            [
             0.4444444444444444,
             "#bd3786"
            ],
            [
             0.5555555555555556,
             "#d8576b"
            ],
            [
             0.6666666666666666,
             "#ed7953"
            ],
            [
             0.7777777777777778,
             "#fb9f3a"
            ],
            [
             0.8888888888888888,
             "#fdca26"
            ],
            [
             1,
             "#f0f921"
            ]
           ],
           "sequentialminus": [
            [
             0,
             "#0d0887"
            ],
            [
             0.1111111111111111,
             "#46039f"
            ],
            [
             0.2222222222222222,
             "#7201a8"
            ],
            [
             0.3333333333333333,
             "#9c179e"
            ],
            [
             0.4444444444444444,
             "#bd3786"
            ],
            [
             0.5555555555555556,
             "#d8576b"
            ],
            [
             0.6666666666666666,
             "#ed7953"
            ],
            [
             0.7777777777777778,
             "#fb9f3a"
            ],
            [
             0.8888888888888888,
             "#fdca26"
            ],
            [
             1,
             "#f0f921"
            ]
           ]
          },
          "colorway": [
           "#636efa",
           "#EF553B",
           "#00cc96",
           "#ab63fa",
           "#FFA15A",
           "#19d3f3",
           "#FF6692",
           "#B6E880",
           "#FF97FF",
           "#FECB52"
          ],
          "font": {
           "color": "#2a3f5f"
          },
          "geo": {
           "bgcolor": "white",
           "lakecolor": "white",
           "landcolor": "#E5ECF6",
           "showlakes": true,
           "showland": true,
           "subunitcolor": "white"
          },
          "hoverlabel": {
           "align": "left"
          },
          "hovermode": "closest",
          "mapbox": {
           "style": "light"
          },
          "paper_bgcolor": "white",
          "plot_bgcolor": "#E5ECF6",
          "polar": {
           "angularaxis": {
            "gridcolor": "white",
            "linecolor": "white",
            "ticks": ""
           },
           "bgcolor": "#E5ECF6",
           "radialaxis": {
            "gridcolor": "white",
            "linecolor": "white",
            "ticks": ""
           }
          },
          "scene": {
           "xaxis": {
            "backgroundcolor": "#E5ECF6",
            "gridcolor": "white",
            "gridwidth": 2,
            "linecolor": "white",
            "showbackground": true,
            "ticks": "",
            "zerolinecolor": "white"
           },
           "yaxis": {
            "backgroundcolor": "#E5ECF6",
            "gridcolor": "white",
            "gridwidth": 2,
            "linecolor": "white",
            "showbackground": true,
            "ticks": "",
            "zerolinecolor": "white"
           },
           "zaxis": {
            "backgroundcolor": "#E5ECF6",
            "gridcolor": "white",
            "gridwidth": 2,
            "linecolor": "white",
            "showbackground": true,
            "ticks": "",
            "zerolinecolor": "white"
           }
          },
          "shapedefaults": {
           "line": {
            "color": "#2a3f5f"
           }
          },
          "ternary": {
           "aaxis": {
            "gridcolor": "white",
            "linecolor": "white",
            "ticks": ""
           },
           "baxis": {
            "gridcolor": "white",
            "linecolor": "white",
            "ticks": ""
           },
           "bgcolor": "#E5ECF6",
           "caxis": {
            "gridcolor": "white",
            "linecolor": "white",
            "ticks": ""
           }
          },
          "title": {
           "x": 0.05
          },
          "xaxis": {
           "automargin": true,
           "gridcolor": "white",
           "linecolor": "white",
           "ticks": "",
           "title": {
            "standoff": 15
           },
           "zerolinecolor": "white",
           "zerolinewidth": 2
          },
          "yaxis": {
           "automargin": true,
           "gridcolor": "white",
           "linecolor": "white",
           "ticks": "",
           "title": {
            "standoff": 15
           },
           "zerolinecolor": "white",
           "zerolinewidth": 2
          }
         }
        }
       }
      },
      "image/png": "[encoded data removed]",
      "text/html": [
       "<div>                            <div id=\"318868d1-c6f8-4795-96d3-9a34a551fae7\" class=\"plotly-graph-div\" style=\"height:525px; width:100%;\"></div>            <script type=\"text/javascript\">                require([\"plotly\"], function(Plotly) {                    window.PLOTLYENV=window.PLOTLYENV || {};                                    if (document.getElementById(\"318868d1-c6f8-4795-96d3-9a34a551fae7\")) {                    Plotly.newPlot(                        \"318868d1-c6f8-4795-96d3-9a34a551fae7\",                        [{\"coloraxis\": \"coloraxis\", \"geo\": \"geo\", \"hovertemplate\": \"<b>%{hovertext}</b><br><br>Locations=%{location}<br>Count=%{z}<extra></extra>\", \"hovertext\": [\"Albania\", \"Algeria\", \"Andorra\", \"Argentina\", \"Armenia\", \"Australia\", \"Austria\", \"Azerbaijan\", \"Bangladesh\", \"Belarus\", \"Belgium\", \"Bolivia\", \"Bosnia and Herzegovina\", \"Brazil\", \"Bulgaria\", \"Canada\", \"Chile\", \"China\", \"Colombia\", \"Costa Rica\", \"Croatia\", \"Cuba\", \"Czech Republic\", \"Czecho\\u00adslovakia\", \"Denmark\", \"Dominican Republic\", \"Ecuador\", \"Egypt\", \"Estonia\", \"FIDE\", \"Faroe Islands\", \"Finland\", \"France\", \"Georgia\", \"Germany\", \"Greece\", \"Hungary\", \"Iceland\", \"India\", \"Indonesia\", \"Iran (Islamic Republic of)\", \"Israel\", \"Italy\", \"Kazakhstan\", \"Kyrgyzstan\", \"Latvia\", \"Lithuania\", \"Luxembourg\", \"Mexico\", \"Moldava\", \"Moldova\", \"Mongolia\", \"Montenegro\", \"Morocco\", \"Myanmar\", \"Netherlands\", \"New Zealand\", \"North Macedonia\", \"Norway\", \"Paraguay\", \"Peru\", \"Philippines\", \"Poland\", \"Portugal\", \"Qatar\", \"Romania\", \"Russia\", \"Scotland\", \"Serbia\", \"Singapore\", \"Slovakia\", \"Slovenia\", \"South Africa\", \"Spain\", \"Sweden\", \"Switzerland\", \"Tajikistan\", \"Tunisia\", \"Turkey\", \"Turkmenistan\", \"Ukraine\", \"United Arab Emirates\", \"United Kingdom of Great Britain and Northern Ireland\", \"United States of America\", \"Uruguay\", \"Uzbekistan\", \"Venezuela\", \"Vietnam\", \"Zambia\"], \"locations\": [\"ALB\", \"DZA\", \"AND\", \"ARG\", \"ARM\", \"AUS\", \"AUT\", \"AZE\", \"BGD\", \"BLR\", \"BEL\", \"BOL\", \"BIH\", \"BRA\", \"BGR\", \"CAN\", \"CHL\", \"CHN\", \"COL\", \"CRI\", \"HRV\", \"CUB\", \"CZE\", null, \"DNK\", \"DOM\", \"ECU\", \"EGY\", \"EST\", \"SOM\", \"FRO\", \"FIN\", \"FRA\", \"GEO\", null, \"GRC\", \"HUN\", \"ISL\", \"IND\", \"IDN\", \"IRN\", \"ISR\", \"ITA\", \"KAZ\", \"KGZ\", \"LVA\", \"LTU\", \"LUX\", \"MEX\", null, \"MDA\", \"MNG\", \"MNE\", \"MAR\", \"MMR\", \"NLD\", \"NZL\", null, \"NOR\", \"PRY\", \"PER\", \"PHL\", \"POL\", \"PRT\", \"QAT\", \"ROU\", \"RUS\", null, null, \"SGP\", \"SVK\", \"SVN\", \"ZAF\", \"ESP\", \"SWE\", \"CHE\", \"TJK\", \"TUN\", \"TUR\", \"TKM\", \"UKR\", \"ARE\", \"GBR\", \"USA\", \"URY\", \"UZB\", \"VEN\", \"VNM\", \"ZMB\"], \"name\": \"\", \"type\": \"choropleth\", \"z\": [1, 2, 2, 33, 42, 11, 8, 28, 5, 20, 7, 1, 5, 14, 41, 14, 6, 50, 10, 2, 23, 35, 27, 11, 16, 1, 1, 6, 6, 1, 1, 6, 47, 31, 96, 15, 66, 13, 66, 8, 17, 43, 17, 15, 1, 13, 11, 1, 7, 1, 7, 8, 6, 1, 1, 39, 1, 8, 16, 2, 11, 16, 51, 4, 2, 26, 349, 5, 88, 2, 13, 10, 1, 48, 23, 7, 2, 3, 10, 6, 102, 2, 43, 79, 1, 21, 2, 11, 1]}],                        {\"coloraxis\": {\"colorbar\": {\"title\": {\"text\": \"Count\"}}, \"colorscale\": [[0.0, \"rgb(210, 251, 212)\"], [0.16666666666666666, \"rgb(165, 219, 194)\"], [0.3333333333333333, \"rgb(123, 188, 176)\"], [0.5, \"rgb(85, 156, 158)\"], [0.6666666666666666, \"rgb(58, 124, 137)\"], [0.8333333333333334, \"rgb(35, 93, 114)\"], [1.0, \"rgb(18, 63, 90)\"]], \"showscale\": true}, \"geo\": {\"center\": {}, \"domain\": {\"x\": [0.0, 1.0], \"y\": [0.0, 1.0]}}, \"legend\": {\"tracegroupgap\": 0}, \"margin\": {\"t\": 60}, \"template\": {\"data\": {\"bar\": [{\"error_x\": {\"color\": \"#2a3f5f\"}, \"error_y\": {\"color\": \"#2a3f5f\"}, \"marker\": {\"line\": {\"color\": \"#E5ECF6\", \"width\": 0.5}}, \"type\": \"bar\"}], \"barpolar\": [{\"marker\": {\"line\": {\"color\": \"#E5ECF6\", \"width\": 0.5}}, \"type\": \"barpolar\"}], \"carpet\": [{\"aaxis\": {\"endlinecolor\": \"#2a3f5f\", \"gridcolor\": \"white\", \"linecolor\": \"white\", \"minorgridcolor\": \"white\", \"startlinecolor\": \"#2a3f5f\"}, \"baxis\": {\"endlinecolor\": \"#2a3f5f\", \"gridcolor\": \"white\", \"linecolor\": \"white\", \"minorgridcolor\": \"white\", \"startlinecolor\": \"#2a3f5f\"}, \"type\": \"carpet\"}], \"choropleth\": [{\"colorbar\": {\"outlinewidth\": 0, \"ticks\": \"\"}, \"type\": \"choropleth\"}], \"contour\": [{\"colorbar\": {\"outlinewidth\": 0, \"ticks\": \"\"}, \"colorscale\": [[0.0, \"#0d0887\"], [0.1111111111111111, \"#46039f\"], [0.2222222222222222, \"#7201a8\"], [0.3333333333333333, \"#9c179e\"], [0.4444444444444444, \"#bd3786\"], [0.5555555555555556, \"#d8576b\"], [0.6666666666666666, \"#ed7953\"], [0.7777777777777778, \"#fb9f3a\"], [0.8888888888888888, \"#fdca26\"], [1.0, \"#f0f921\"]], \"type\": \"contour\"}], \"contourcarpet\": [{\"colorbar\": {\"outlinewidth\": 0, \"ticks\": \"\"}, \"type\": \"contourcarpet\"}], \"heatmap\": [{\"colorbar\": {\"outlinewidth\": 0, \"ticks\": \"\"}, \"colorscale\": [[0.0, \"#0d0887\"], [0.1111111111111111, \"#46039f\"], [0.2222222222222222, \"#7201a8\"], [0.3333333333333333, \"#9c179e\"], [0.4444444444444444, \"#bd3786\"], [0.5555555555555556, \"#d8576b\"], [0.6666666666666666, \"#ed7953\"], [0.7777777777777778, \"#fb9f3a\"], [0.8888888888888888, \"#fdca26\"], [1.0, \"#f0f921\"]], \"type\": \"heatmap\"}], \"heatmapgl\": [{\"colorbar\": {\"outlinewidth\": 0, \"ticks\": \"\"}, \"colorscale\": [[0.0, \"#0d0887\"], [0.1111111111111111, \"#46039f\"], [0.2222222222222222, \"#7201a8\"], [0.3333333333333333, \"#9c179e\"], [0.4444444444444444, \"#bd3786\"], [0.5555555555555556, \"#d8576b\"], [0.6666666666666666, \"#ed7953\"], [0.7777777777777778, \"#fb9f3a\"], [0.8888888888888888, \"#fdca26\"], [1.0, \"#f0f921\"]], \"type\": \"heatmapgl\"}], \"histogram\": [{\"marker\": {\"colorbar\": {\"outlinewidth\": 0, \"ticks\": \"\"}}, \"type\": \"histogram\"}], \"histogram2d\": [{\"colorbar\": {\"outlinewidth\": 0, \"ticks\": \"\"}, \"colorscale\": [[0.0, \"#0d0887\"], [0.1111111111111111, \"#46039f\"], [0.2222222222222222, \"#7201a8\"], [0.3333333333333333, \"#9c179e\"], [0.4444444444444444, \"#bd3786\"], [0.5555555555555556, \"#d8576b\"], [0.6666666666666666, \"#ed7953\"], [0.7777777777777778, \"#fb9f3a\"], [0.8888888888888888, \"#fdca26\"], [1.0, \"#f0f921\"]], \"type\": \"histogram2d\"}], \"histogram2dcontour\": [{\"colorbar\": {\"outlinewidth\": 0, \"ticks\": \"\"}, \"colorscale\": [[0.0, \"#0d0887\"], [0.1111111111111111, \"#46039f\"], [0.2222222222222222, \"#7201a8\"], [0.3333333333333333, \"#9c179e\"], [0.4444444444444444, \"#bd3786\"], [0.5555555555555556, \"#d8576b\"], [0.6666666666666666, \"#ed7953\"], [0.7777777777777778, \"#fb9f3a\"], [0.8888888888888888, \"#fdca26\"], [1.0, \"#f0f921\"]], \"type\": \"histogram2dcontour\"}], \"mesh3d\": [{\"colorbar\": {\"outlinewidth\": 0, \"ticks\": \"\"}, \"type\": \"mesh3d\"}], \"parcoords\": [{\"line\": {\"colorbar\": {\"outlinewidth\": 0, \"ticks\": \"\"}}, \"type\": \"parcoords\"}], \"pie\": [{\"automargin\": true, \"type\": \"pie\"}], \"scatter\": [{\"marker\": {\"colorbar\": {\"outlinewidth\": 0, \"ticks\": \"\"}}, \"type\": \"scatter\"}], \"scatter3d\": [{\"line\": {\"colorbar\": {\"outlinewidth\": 0, \"ticks\": \"\"}}, \"marker\": {\"colorbar\": {\"outlinewidth\": 0, \"ticks\": \"\"}}, \"type\": \"scatter3d\"}], \"scattercarpet\": [{\"marker\": {\"colorbar\": {\"outlinewidth\": 0, \"ticks\": \"\"}}, \"type\": \"scattercarpet\"}], \"scattergeo\": [{\"marker\": {\"colorbar\": {\"outlinewidth\": 0, \"ticks\": \"\"}}, \"type\": \"scattergeo\"}], \"scattergl\": [{\"marker\": {\"colorbar\": {\"outlinewidth\": 0, \"ticks\": \"\"}}, \"type\": \"scattergl\"}], \"scattermapbox\": [{\"marker\": {\"colorbar\": {\"outlinewidth\": 0, \"ticks\": \"\"}}, \"type\": \"scattermapbox\"}], \"scatterpolar\": [{\"marker\": {\"colorbar\": {\"outlinewidth\": 0, \"ticks\": \"\"}}, \"type\": \"scatterpolar\"}], \"scatterpolargl\": [{\"marker\": {\"colorbar\": {\"outlinewidth\": 0, \"ticks\": \"\"}}, \"type\": \"scatterpolargl\"}], \"scatterternary\": [{\"marker\": {\"colorbar\": {\"outlinewidth\": 0, \"ticks\": \"\"}}, \"type\": \"scatterternary\"}], \"surface\": [{\"colorbar\": {\"outlinewidth\": 0, \"ticks\": \"\"}, \"colorscale\": [[0.0, \"#0d0887\"], [0.1111111111111111, \"#46039f\"], [0.2222222222222222, \"#7201a8\"], [0.3333333333333333, \"#9c179e\"], [0.4444444444444444, \"#bd3786\"], [0.5555555555555556, \"#d8576b\"], [0.6666666666666666, \"#ed7953\"], [0.7777777777777778, \"#fb9f3a\"], [0.8888888888888888, \"#fdca26\"], [1.0, \"#f0f921\"]], \"type\": \"surface\"}], \"table\": [{\"cells\": {\"fill\": {\"color\": \"#EBF0F8\"}, \"line\": {\"color\": \"white\"}}, \"header\": {\"fill\": {\"color\": \"#C8D4E3\"}, \"line\": {\"color\": \"white\"}}, \"type\": \"table\"}]}, \"layout\": {\"annotationdefaults\": {\"arrowcolor\": \"#2a3f5f\", \"arrowhead\": 0, \"arrowwidth\": 1}, \"autotypenumbers\": \"strict\", \"coloraxis\": {\"colorbar\": {\"outlinewidth\": 0, \"ticks\": \"\"}}, \"colorscale\": {\"diverging\": [[0, \"#8e0152\"], [0.1, \"#c51b7d\"], [0.2, \"#de77ae\"], [0.3, \"#f1b6da\"], [0.4, \"#fde0ef\"], [0.5, \"#f7f7f7\"], [0.6, \"#e6f5d0\"], [0.7, \"#b8e186\"], [0.8, \"#7fbc41\"], [0.9, \"#4d9221\"], [1, \"#276419\"]], \"sequential\": [[0.0, \"#0d0887\"], [0.1111111111111111, \"#46039f\"], [0.2222222222222222, \"#7201a8\"], [0.3333333333333333, \"#9c179e\"], [0.4444444444444444, \"#bd3786\"], [0.5555555555555556, \"#d8576b\"], [0.6666666666666666, \"#ed7953\"], [0.7777777777777778, \"#fb9f3a\"], [0.8888888888888888, \"#fdca26\"], [1.0, \"#f0f921\"]], \"sequentialminus\": [[0.0, \"#0d0887\"], [0.1111111111111111, \"#46039f\"], [0.2222222222222222, \"#7201a8\"], [0.3333333333333333, \"#9c179e\"], [0.4444444444444444, \"#bd3786\"], [0.5555555555555556, \"#d8576b\"], [0.6666666666666666, \"#ed7953\"], [0.7777777777777778, \"#fb9f3a\"], [0.8888888888888888, \"#fdca26\"], [1.0, \"#f0f921\"]]}, \"colorway\": [\"#636efa\", \"#EF553B\", \"#00cc96\", \"#ab63fa\", \"#FFA15A\", \"#19d3f3\", \"#FF6692\", \"#B6E880\", \"#FF97FF\", \"#FECB52\"], \"font\": {\"color\": \"#2a3f5f\"}, \"geo\": {\"bgcolor\": \"white\", \"lakecolor\": \"white\", \"landcolor\": \"#E5ECF6\", \"showlakes\": true, \"showland\": true, \"subunitcolor\": \"white\"}, \"hoverlabel\": {\"align\": \"left\"}, \"hovermode\": \"closest\", \"mapbox\": {\"style\": \"light\"}, \"paper_bgcolor\": \"white\", \"plot_bgcolor\": \"#E5ECF6\", \"polar\": {\"angularaxis\": {\"gridcolor\": \"white\", \"linecolor\": \"white\", \"ticks\": \"\"}, \"bgcolor\": \"#E5ECF6\", \"radialaxis\": {\"gridcolor\": \"white\", \"linecolor\": \"white\", \"ticks\": \"\"}}, \"scene\": {\"xaxis\": {\"backgroundcolor\": \"#E5ECF6\", \"gridcolor\": \"white\", \"gridwidth\": 2, \"linecolor\": \"white\", \"showbackground\": true, \"ticks\": \"\", \"zerolinecolor\": \"white\"}, \"yaxis\": {\"backgroundcolor\": \"#E5ECF6\", \"gridcolor\": \"white\", \"gridwidth\": 2, \"linecolor\": \"white\", \"showbackground\": true, \"ticks\": \"\", \"zerolinecolor\": \"white\"}, \"zaxis\": {\"backgroundcolor\": \"#E5ECF6\", \"gridcolor\": \"white\", \"gridwidth\": 2, \"linecolor\": \"white\", \"showbackground\": true, \"ticks\": \"\", \"zerolinecolor\": \"white\"}}, \"shapedefaults\": {\"line\": {\"color\": \"#2a3f5f\"}}, \"ternary\": {\"aaxis\": {\"gridcolor\": \"white\", \"linecolor\": \"white\", \"ticks\": \"\"}, \"baxis\": {\"gridcolor\": \"white\", \"linecolor\": \"white\", \"ticks\": \"\"}, \"bgcolor\": \"#E5ECF6\", \"caxis\": {\"gridcolor\": \"white\", \"linecolor\": \"white\", \"ticks\": \"\"}}, \"title\": {\"x\": 0.05}, \"xaxis\": {\"automargin\": true, \"gridcolor\": \"white\", \"linecolor\": \"white\", \"ticks\": \"\", \"title\": {\"standoff\": 15}, \"zerolinecolor\": \"white\", \"zerolinewidth\": 2}, \"yaxis\": {\"automargin\": true, \"gridcolor\": \"white\", \"linecolor\": \"white\", \"ticks\": \"\", \"title\": {\"standoff\": 15}, \"zerolinecolor\": \"white\", \"zerolinewidth\": 2}}}},                        {\"responsive\": true}                    ).then(function(){\n",
       "                            \n",
       "var gd = document.getElementById('318868d1-c6f8-4795-96d3-9a34a551fae7');\n",
       "var x = new MutationObserver(function (mutations, observer) {{\n",
       "        var display = window.getComputedStyle(gd).display;\n",
       "        if (!display || display === 'none') {{\n",
       "            console.log([gd, 'removed!']);\n",
       "            Plotly.purge(gd);\n",
       "            observer.disconnect();\n",
       "        }}\n",
       "}});\n",
       "\n",
       "// Listen for the removal of the full notebook cells\n",
       "var notebookContainer = gd.closest('#notebook-container');\n",
       "if (notebookContainer) {{\n",
       "    x.observe(notebookContainer, {childList: true});\n",
       "}}\n",
       "\n",
       "// Listen for the clearing of the current output cell\n",
       "var outputEl = gd.closest('.output');\n",
       "if (outputEl) {{\n",
       "    x.observe(outputEl, {childList: true});\n",
       "}}\n",
       "\n",
       "                        })                };                });            </script>        </div>"
      ]
     },
     "metadata": {},
     "output_type": "display_data"
    }
   ],
   "source": [
    "fig = px.choropleth(data_frame=country_counts,\n",
    "                         locations='Locations',\n",
    "                         color='Count',\n",
    "                         hover_name='Country', \n",
    "                        color_continuous_scale=px.colors.sequential.Darkmint)\n",
    "\n",
    " \n",
    "fig.update_layout(coloraxis_showscale=True,)\n",
    " \n",
    "fig.show()\n"
   ]
  },
  {
   "cell_type": "markdown",
   "metadata": {},
   "source": [
    "### Female Grandmasters"
   ]
  },
  {
   "cell_type": "code",
   "execution_count": null,
   "metadata": {},
   "outputs": [],
   "source": [
    "# Female Grandmasters \n",
    "\n",
    "gm_df[gm_df[\"Sex\"] == \"F\"].sort_values(\"TitleYear\")[:5]"
   ]
  },
  {
   "cell_type": "code",
   "execution_count": null,
   "metadata": {},
   "outputs": [],
   "source": [
    "# Any American Woman GM's\n",
    "\n",
    "((gm_df[\"Sex\"] == \"F\") & (gm_df[\"Federation\"] == \"United States\")).any()"
   ]
  },
  {
   "cell_type": "code",
   "execution_count": null,
   "metadata": {},
   "outputs": [],
   "source": [
    "gm_df[(gm_df[\"Sex\"] == \"F\") & (gm_df[\"Federation\"] == \"United States\")]"
   ]
  }
 ],
 "metadata": {
  "kernelspec": {
   "display_name": "Python 3",
   "language": "python",
   "name": "python3"
  },
  "language_info": {
   "codemirror_mode": {
    "name": "ipython",
    "version": 3
   },
   "file_extension": ".py",
   "mimetype": "text/x-python",
   "name": "python",
   "nbconvert_exporter": "python",
   "pygments_lexer": "ipython3",
   "version": "3.7.3"
  }
 },
 "nbformat": 4,
 "nbformat_minor": 4
}
